{
 "cells": [
  {
   "cell_type": "code",
   "execution_count": 4,
   "id": "de72dd8c-a962-4bfe-b67b-7f6341ec7ecc",
   "metadata": {},
   "outputs": [
    {
     "name": "stdout",
     "output_type": "stream",
     "text": [
      "Все тесты пройдены!\n"
     ]
    }
   ],
   "source": [
    "# Задача: Circle or Square (easy = 1 point)\n",
    "#Ссылка на задачу: https://edabit.com/challenge/4me7LifXBwj5rhL4n\n",
    "\n",
    "def circle_or_square(rad, area):\n",
    "    a = area ** 0.5\n",
    "    per = 4 * a\n",
    "    c = 2 * 3.14 * rad\n",
    "    if per > c:\n",
    "        return False\n",
    "    else:\n",
    "        return True\n",
    "\n",
    "assert circle_or_square(16, 625) == True\n",
    "assert circle_or_square(8, 144) == True\n",
    "assert circle_or_square(15, 400) == True\n",
    "assert circle_or_square(5, 100) == False\n",
    "assert circle_or_square(18, 900) == False\n",
    "assert circle_or_square(1, 4) == False\n",
    "\n",
    "print(\"Все тесты пройдены!\")"
   ]
  },
  {
   "cell_type": "code",
   "execution_count": 8,
   "id": "95f48e3d-2fe6-40b0-bd8b-b77f4d7b4c2f",
   "metadata": {},
   "outputs": [
    {
     "name": "stdout",
     "output_type": "stream",
     "text": [
      "Все тесты пройдены!\n"
     ]
    }
   ],
   "source": [
    "#Задача: Sum of Odd and Even Numbers (med = 2 points)\n",
    "#Ссылка на задачу: https://edabit.com/challenge/5XXXppAdfcGaootD9\n",
    "\n",
    "def sum_odd_and_even(lst):\n",
    "\tl = len(lst)\n",
    "\ts1 = 0\n",
    "\ts2 = 0\n",
    "\tfor i in range(0, l):\n",
    "\t\tif lst[i] % 2 == 0:\n",
    "\t\t\ts2 += lst[i]\n",
    "\t\telse:\n",
    "\t\t\ts1 += lst[i]\n",
    "\treturn [s2, s1]\n",
    "\n",
    "assert sum_odd_and_even([1, 2, 3, 4, 5, 6]) == [12, 9]\n",
    "assert has_friday_13(3, 2020) == True\n",
    "assert has_friday_13(10, 2017) == True\n",
    "assert has_friday_13(1, 1985) == False\n",
    "assert has_friday_13(5, 1619) == False\n",
    "assert has_friday_13(6, 1614) == True\n",
    "assert has_friday_13(8, 1767) == False\n",
    "assert has_friday_13(6, 1589) == False\n",
    "assert has_friday_13(2, 2015) == True\n",
    "assert has_friday_13(3, 2015) == True\n",
    "assert has_friday_13(11, 2015) == True\n",
    "assert has_friday_13(2, 1759) == False\n",
    "assert has_friday_13(8, 1612) == False\n",
    "assert has_friday_13(10, 2029) == False\n",
    "assert has_friday_13(1, 1590) == False\n",
    "assert has_friday_13(7, 1812) == False\n",
    "assert has_friday_13(1, 1785) == False\n",
    "assert has_friday_13(11, 1961) == False\n",
    "assert has_friday_13(9, 1706) == False\n",
    "assert has_friday_13(5, 2016) == True\n",
    "assert has_friday_13(11, 2020) == True\n",
    "assert has_friday_13(1, 2023) == True\n",
    "assert has_friday_13(10, 2023) == True\n",
    "assert has_friday_13(2, 2043) == True\n",
    "assert has_friday_13(4, 2043) == False\n",
    "assert has_friday_13(3, 2043) == True\n",
    "assert has_friday_13(11, 2043) == True\n",
    "assert sum_odd_and_even([-1, -2, -3, -4, -5, -6]) == [-12, -9]\n",
    "assert sum_odd_and_even([0, 0]) == [0, 0]\n",
    "assert sum_odd_and_even([]) == [0, 0]\n",
    "\n",
    "print(\"Все тесты пройдены!\")"
   ]
  },
  {
   "cell_type": "code",
   "execution_count": 11,
   "id": "0a344034-693f-453b-90ca-dbbef1602323",
   "metadata": {},
   "outputs": [
    {
     "name": "stdout",
     "output_type": "stream",
     "text": [
      "Все тесты пройдены!\n"
     ]
    }
   ],
   "source": [
    "#Задача: Friday the 13th (hard = 3 points)\n",
    "#Ссылка на задачу: https://edabit.com/challenge/Xkc2iAjwCap2z9N5D\n",
    "\n",
    "def has_friday_13(month, year):\n",
    "\tif month < 3:\n",
    "\t \tmonth += 12\n",
    "\t \tyear -= 1\n",
    "\tk = year % 100\n",
    "\tj = year // 100\n",
    "\th = (13 + ((13 * (month + 1)) // 5) + k + (k // 4) + (j // 4) - 2 * j) % 7\n",
    "\tif h == 6:\n",
    "\t\treturn True\n",
    "\telse:\n",
    "\t\treturn False\n",
    "\n",
    "assert has_friday_13(3, 2020) == True\n",
    "assert has_friday_13(10, 2017) == True\n",
    "assert has_friday_13(1, 1985) == False\n",
    "assert has_friday_13(5, 1619) == False\n",
    "assert has_friday_13(6, 1614) == True\n",
    "assert has_friday_13(8, 1767) == False\n",
    "assert has_friday_13(6, 1589) == False\n",
    "assert has_friday_13(2, 2015) == True\n",
    "assert has_friday_13(3, 2015) == True\n",
    "assert has_friday_13(11, 2015) == True\n",
    "assert has_friday_13(2, 1759) == False\n",
    "assert has_friday_13(8, 1612) == False\n",
    "assert has_friday_13(10, 2029) == False\n",
    "assert has_friday_13(1, 1590) == False\n",
    "assert has_friday_13(7, 1812) == False\n",
    "assert has_friday_13(1, 1785) == False\n",
    "assert has_friday_13(11, 1961) == False\n",
    "assert has_friday_13(9, 1706) == False\n",
    "assert has_friday_13(5, 2016) == True\n",
    "assert has_friday_13(11, 2020) == True\n",
    "assert has_friday_13(1, 2023) == True\n",
    "assert has_friday_13(10, 2023) == True\n",
    "assert has_friday_13(2, 2043) == True\n",
    "assert has_friday_13(4, 2043) == False\n",
    "assert has_friday_13(3, 2043) == True\n",
    "assert has_friday_13(11, 2043) == True\n",
    "\n",
    "print(\"Все тесты пройдены!\")"
   ]
  },
  {
   "cell_type": "code",
   "execution_count": 15,
   "id": "fde53a27-b8fd-4ef9-b2ae-84226f5f90bd",
   "metadata": {},
   "outputs": [
    {
     "name": "stdout",
     "output_type": "stream",
     "text": [
      "Все тесты пройдены!\n"
     ]
    }
   ],
   "source": [
    "#Задача: Tic Tac Toe (very hard = 4 points)\n",
    "#Ссылка на задачу: https://edabit.com/challenge/A8gEGRXqMwRWQJvBf\n",
    "\n",
    "def tic_tac_toe(board):\n",
    "\tif board[0][0] == board[0][1] == board[0][2]:\n",
    "\t\treturn board[0][0]\n",
    "\tif board[1][0] == board[1][1] == board[1][2]:\n",
    "\t\treturn board[1][0]\n",
    "\tif board[2][0] == board[2][1] == board[2][2]:\n",
    "\t\treturn board[2][0]\n",
    "\tif board[0][0] == board[1][0] == board[2][0]:\n",
    "\t\treturn board[0][0]\n",
    "\tif board[0][1] == board[1][1] == board[2][1]:\n",
    "\t\treturn board[0][1]\n",
    "\tif board[0][2] == board[1][2] == board[2][2]:\n",
    "\t\treturn board[0][2]\n",
    "\tif board[0][0] == board[1][1] == board[2][2]:\n",
    "\t\treturn board[0][0]\n",
    "\tif board[0][2] == board[1][1] == board[2][0]:\n",
    "\t\treturn board[0][2]\n",
    "\treturn \"Draw\"\n",
    "\n",
    "assert tic_tac_toe([\n",
    "\t[\"X\", \"O\", \"X\"],\n",
    "\t[\"O\", \"X\", \"O\"],\n",
    "\t[\"O\", \"X\", \"X\"]\n",
    "]) == \"X\"\n",
    "\n",
    "assert tic_tac_toe([\n",
    "\t[\"O\", \"O\", \"O\"],\n",
    "\t[\"O\", \"X\", \"X\"],\n",
    "\t[\"E\", \"X\", \"X\"]\n",
    "]) == \"O\"\n",
    "\n",
    "assert tic_tac_toe([\n",
    "\t[\"X\", \"X\", \"O\"],\n",
    "\t[\"O\", \"O\", \"X\"],\n",
    "\t[\"X\", \"X\", \"O\"]\n",
    "]) == \"Draw\"\n",
    "\n",
    "assert tic_tac_toe([\n",
    "\t[\"X\", \"O\", \"O\"],\n",
    "\t[\"X\", \"O\", \"O\"],\n",
    "\t[\"X\", \"X\", \"X\"]\n",
    "]) == \"X\"\n",
    "\n",
    "assert tic_tac_toe([\n",
    "\t[\"X\", \"X\", \"O\"],\n",
    "\t[\"O\", \"O\", \"X\"],\n",
    "\t[\"X\", \"X\", \"O\"]\n",
    "]) == \"Draw\"\n",
    "\n",
    "assert tic_tac_toe([\n",
    "\t[\"X\", \"O\", \"X\"],\n",
    "\t[\"O\", \"X\", \"O\"],\n",
    "\t[\"E\", \"E\", \"X\"]\n",
    "]) == \"X\"\n",
    "\n",
    "assert tic_tac_toe([\n",
    "\t[\"X\", \"O\", \"E\"],\n",
    "\t[\"X\", \"O\", \"E\"],\n",
    "\t[\"E\", \"O\", \"X\"]\n",
    "]) == \"O\"\n",
    "\n",
    "print(\"Все тесты пройдены!\")"
   ]
  },
  {
   "cell_type": "code",
   "execution_count": 17,
   "id": "5643c851-de1f-49ef-a403-be1fc638a255",
   "metadata": {},
   "outputs": [
    {
     "name": "stdout",
     "output_type": "stream",
     "text": [
      "Все тесты пройдены!\n"
     ]
    }
   ],
   "source": [
    "# Задача: Majority Vote (hard = 3 points)\n",
    "#Ссылка на задачу: https://edabit.com/challenge/pQavNkBbdmvSMmx5x\n",
    "\n",
    "def majority_vote(lst):\n",
    "\ta = []\n",
    "\tfor v in lst:\n",
    "\t\tif v not in a:\n",
    "\t\t\ta.append(v)\n",
    "\ts = len(lst)\n",
    "\tt1 = 0\n",
    "\tmax = 0\n",
    "\tl = len(a)\n",
    "\tfor v in a:\n",
    "\t\tt1 = lst.count(v)\n",
    "\t\tif t1 > max:\n",
    "\t\t\tmax = t1\n",
    "\t\t\tu = v\n",
    "\tif max * 2 > s:\n",
    "\t\treturn u\n",
    "\telse:\n",
    "\t\treturn None\n",
    "\n",
    "assert majority_vote([\"A\", \"B\", \"B\", \"B\", \"A\", \"A\"]) == None\n",
    "assert majority_vote([\"B\", \"B\", \"B\"]) == \"B\"\n",
    "assert majority_vote([\"A\", \"B\", \"B\"]) == \"B\"\n",
    "assert majority_vote([\"A\", \"A\", \"B\"]) == \"A\"\n",
    "assert majority_vote([\"A\", \"A\", \"A\", \"B\", \"C\", \"A\"]) == \"A\"\n",
    "assert majority_vote([\"B\", \"A\", \"B\", \"B\", \"C\", \"A\", \"B\", \"B\"]) == \"B\"\n",
    "assert majority_vote([\"A\", \"B\", \"B\", \"A\", \"C\", \"C\"]) == None\n",
    "assert majority_vote([\"A\", \"B\"]) == None\n",
    "assert majority_vote([\"A\"]) == \"A\"\n",
    "assert majority_vote([]) == None\n",
    "\n",
    "print(\"Все тесты пройдены!\")"
   ]
  },
  {
   "cell_type": "code",
   "execution_count": 18,
   "id": "acfc6015-1d3d-4905-8667-e543d7b38de9",
   "metadata": {},
   "outputs": [
    {
     "name": "stdout",
     "output_type": "stream",
     "text": [
      "Все тесты пройдены!\n"
     ]
    }
   ],
   "source": [
    "#Задача: Next Number Greater Than A and B and Divisible by B (medium = 2 points)\n",
    "#Ссылка на задачу: https://edabit.com/challenge/2bTdN8sr3PQKkLHur\n",
    "\n",
    "def divisible_by_b(a, b):\n",
    "\tr = a % b\n",
    "\treturn a + (b - r)\n",
    "\n",
    "assert divisible_by_b(17, 8) == 24\n",
    "assert divisible_by_b(98, 3) == 99\n",
    "assert divisible_by_b(14, 11) == 22\n",
    "assert divisible_by_b(11, 8) == 16\n",
    "assert divisible_by_b(450, 36) == 468\n",
    "assert divisible_by_b(1019, 13) == 1027\n",
    "\n",
    "print(\"Все тесты пройдены!\")"
   ]
  }
 ],
 "metadata": {
  "kernelspec": {
   "display_name": "Python 3 (ipykernel)",
   "language": "python",
   "name": "python3"
  },
  "language_info": {
   "codemirror_mode": {
    "name": "ipython",
    "version": 3
   },
   "file_extension": ".py",
   "mimetype": "text/x-python",
   "name": "python",
   "nbconvert_exporter": "python",
   "pygments_lexer": "ipython3",
   "version": "3.13.7"
  }
 },
 "nbformat": 4,
 "nbformat_minor": 5
}
