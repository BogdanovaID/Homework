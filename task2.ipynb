{
 "cells": [
  {
   "cell_type": "code",
   "execution_count": 16,
   "id": "15a97264-05a8-4ba3-907f-15f736a82dbd",
   "metadata": {},
   "outputs": [
    {
     "name": "stdout",
     "output_type": "stream",
     "text": [
      "[[1 1 1 1 1 1 1 1 1 1]\n",
      " [1 0 0 0 0 0 0 0 0 1]\n",
      " [1 0 0 0 0 0 0 0 0 1]\n",
      " [1 0 0 0 0 0 0 0 0 1]\n",
      " [1 0 0 0 0 0 0 0 0 1]\n",
      " [1 0 0 0 0 0 0 0 0 1]\n",
      " [1 0 0 0 0 0 0 0 0 1]\n",
      " [1 0 0 0 0 0 0 0 0 1]\n",
      " [1 0 0 0 0 0 0 0 0 1]\n",
      " [1 1 1 1 1 1 1 1 1 1]]\n"
     ]
    }
   ],
   "source": [
    "#1\n",
    "import numpy as np\n",
    "ar1 = np.pad(np.zeros((8,8), int), 1, constant_values=1)\n",
    "print(ar1)"
   ]
  },
  {
   "cell_type": "code",
   "execution_count": 14,
   "id": "13332e3b-d1e1-47ff-9d43-ac75bcdcdfa1",
   "metadata": {},
   "outputs": [
    {
     "name": "stdout",
     "output_type": "stream",
     "text": [
      "[[0 1 0 1 0 1 0 1]\n",
      " [1 0 1 0 1 0 1 0]\n",
      " [0 1 0 1 0 1 0 1]\n",
      " [1 0 1 0 1 0 1 0]\n",
      " [0 1 0 1 0 1 0 1]\n",
      " [1 0 1 0 1 0 1 0]\n",
      " [0 1 0 1 0 1 0 1]\n",
      " [1 0 1 0 1 0 1 0]]\n"
     ]
    }
   ],
   "source": [
    "#2\n",
    "ar2 = (np.arange(8)[:, None] + np.arange(8)) % 2\n",
    "print(ar2)"
   ]
  },
  {
   "cell_type": "code",
   "execution_count": 19,
   "id": "90018ebb-952f-4ab9-a362-0cca8b082643",
   "metadata": {},
   "outputs": [
    {
     "name": "stdout",
     "output_type": "stream",
     "text": [
      "[[0. 0. 0. 0. 0.]\n",
      " [1. 0. 0. 0. 0.]\n",
      " [2. 1. 0. 0. 0.]\n",
      " [3. 2. 1. 0. 0.]\n",
      " [4. 3. 2. 1. 0.]]\n"
     ]
    }
   ],
   "source": [
    "#3\n",
    "ar3 = np.transpose(np.eye(5, k=1)*1 + np.eye(5, k=2)*2 + np.eye(5, k=3)*3 + np.eye(5, k=4)*4)\n",
    "print(ar3)"
   ]
  },
  {
   "cell_type": "code",
   "execution_count": 23,
   "id": "bc2dad56-4e57-456a-95fd-e2d0457dc300",
   "metadata": {},
   "outputs": [
    {
     "name": "stdout",
     "output_type": "stream",
     "text": [
      "[ 1.11022302e-16  2.22044605e-17 -4.44089210e-17 -2.22044605e-17\n",
      "  4.44089210e-17]\n",
      "True\n"
     ]
    }
   ],
   "source": [
    "#4\n",
    "ar4 = (lambda a: a - a.mean(axis=1, keepdims=True))(np.random.rand(5,5))\n",
    "print(ar4.mean(axis=1))\n",
    "print(np.allclose(ar4.mean(axis=1), 0))"
   ]
  },
  {
   "cell_type": "code",
   "execution_count": 25,
   "id": "15530740-d96b-4fa0-b946-dbed343e5a95",
   "metadata": {},
   "outputs": [
    {
     "name": "stdout",
     "output_type": "stream",
     "text": [
      "[[0.75920599 0.48747549 0.56198836]\n",
      " [0.88984444 0.00453138 0.78953307]\n",
      " [0.70085294 0.62961676 0.43417267]\n",
      " [0.10340265 0.85190481 0.89096606]\n",
      " [0.96603019 0.64268661 0.22946189]\n",
      " [0.33114512 0.31164294 0.60242018]\n",
      " [0.07723749 0.53522031 0.49045167]\n",
      " [0.62831768 0.69051372 0.30795004]\n",
      " [0.8723443  0.6165302  0.89706732]\n",
      " [0.09875263 0.75159873 0.59754277]]\n",
      "[0.48747549 0.78953307 0.43417267 0.85190481 0.64268661 0.60242018\n",
      " 0.49045167 0.62831768 0.6165302  0.59754277]\n"
     ]
    }
   ],
   "source": [
    "#5\n",
    "ar5 = np.random.rand(10,3)\n",
    "closest = ar5[np.arange(10), np.abs(ar5-0.5).argmin(axis=1)]\n",
    "print(ar5)\n",
    "print(closest)"
   ]
  },
  {
   "cell_type": "code",
   "execution_count": 26,
   "id": "6f9e4f8f-78a8-4089-b713-51305a4e9dec",
   "metadata": {},
   "outputs": [
    {
     "name": "stdout",
     "output_type": "stream",
     "text": [
      "[[0.40679435 0.73265789 0.15140271 0.22060884 0.43746944 0.74809314]\n",
      " [0.99867945 0.74586865 0.07335182 0.69599281 0.74841543 0.96632917]\n",
      " [0.81408071 0.23880202 0.19143513 0.94715834 0.13206163 0.23221959]\n",
      " [0.12275693 0.1579891  0.80219072 0.85995451 0.34617899 0.73262123]\n",
      " [0.97271775 0.07769983 0.54893971 0.83412589 0.86536714 0.79597529]\n",
      " [0.13294759 0.66408959 0.40239962 0.17174711 0.04166828 0.83525002]]\n",
      "[2.70059263 5.66941287 3.18597229 3.19027068 4.73189405 2.32643522]\n"
     ]
    }
   ],
   "source": [
    "# 6\n",
    "ar6 = np.random.rand(6,6)\n",
    "res6 = ar6.sum(axis=1) / ar6.max(axis=0)\n",
    "print(ar6)\n",
    "print(res6)"
   ]
  },
  {
   "cell_type": "code",
   "execution_count": 27,
   "id": "0461a2c7-fe5e-488d-b5cd-62dc126485b1",
   "metadata": {},
   "outputs": [
    {
     "name": "stdout",
     "output_type": "stream",
     "text": [
      "5\n"
     ]
    }
   ],
   "source": [
    "# 7\n",
    "x = np.array([6, 2, 0, 3, 0, 0, 5, 7, 0])\n",
    "res7 = x[1:][x[:-1]==0].max()\n",
    "print(res7)"
   ]
  },
  {
   "cell_type": "code",
   "execution_count": 28,
   "id": "a27df118-38d0-4535-9637-05f8c12fe6b9",
   "metadata": {},
   "outputs": [
    {
     "name": "stdout",
     "output_type": "stream",
     "text": [
      "[2 2 2 2 1 4 1 1 2 1]\n"
     ]
    }
   ],
   "source": [
    "# 8\n",
    "x = np.ones(10, dtype=int)\n",
    "i = np.array([0, 1, 2, 3, 5, 5, 5, 8])\n",
    "x += np.bincount(i, minlength=len(x))\n",
    "print(x)"
   ]
  },
  {
   "cell_type": "code",
   "execution_count": 29,
   "id": "970ba4bf-bc69-4aeb-baa7-7e34a4ad74f2",
   "metadata": {},
   "outputs": [
    {
     "name": "stdout",
     "output_type": "stream",
     "text": [
      "[[ 0  5  3]\n",
      " [ 5  5 10]\n",
      " [ 3  5  0]]\n"
     ]
    }
   ],
   "source": [
    "# 9\n",
    "a = np.array([[1, 4.9, 2.4], [7.1, 7, 9.8], [2, 4.6, 1.2]])\n",
    "b = np.array([3, 5, 10, 0])\n",
    "res9 = b[np.abs(a[...,None]-b).argmin(axis=-1)]\n",
    "print(res9)"
   ]
  },
  {
   "cell_type": "code",
   "execution_count": 31,
   "id": "5a514105-2c5c-477b-b22c-c111e1bc603e",
   "metadata": {},
   "outputs": [
    {
     "name": "stdout",
     "output_type": "stream",
     "text": [
      "[2.76666667 4.8        5.5        7.96666667 6.26666667 2.26666667\n",
      " 0.53333333 0.26666667]\n"
     ]
    }
   ],
   "source": [
    "# 10\n",
    "a = np.array([1, 4.9, 2.4, 7.1, 7, 9.8, 2, -5, 4.6, 1.2])\n",
    "b = np.convolve(a, np.ones(3)/3, mode='valid')\n",
    "print(b)"
   ]
  }
 ],
 "metadata": {
  "kernelspec": {
   "display_name": "Python 3 (ipykernel)",
   "language": "python",
   "name": "python3"
  },
  "language_info": {
   "codemirror_mode": {
    "name": "ipython",
    "version": 3
   },
   "file_extension": ".py",
   "mimetype": "text/x-python",
   "name": "python",
   "nbconvert_exporter": "python",
   "pygments_lexer": "ipython3",
   "version": "3.13.7"
  }
 },
 "nbformat": 4,
 "nbformat_minor": 5
}
